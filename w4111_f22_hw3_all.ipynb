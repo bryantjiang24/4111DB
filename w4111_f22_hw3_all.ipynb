{
 "cells": [
  {
   "cell_type": "markdown",
   "metadata": {},
   "source": [
    "<style  type=\"text/css\"> \n",
    "</style>\n",
    "\n",
    "<b><center>\n",
    "<span style=\"font-size: 24pt; line-height: 1.2\">\n",
    "COMS W4111-003/V003 (Fall 2022)<br>Introduction to Databases\n",
    "</span>\n",
    "</center></b>\n",
    "</span><br>\n",
    "<p>\n",
    "<i><center>\n",
    "<span style=\"font-size: 20pt; line-height: 1.2\">\n",
    "Homework 3: Programming and Non-Programming Tracks\n",
    "</span>\n",
    "</center></i>"
   ]
  },
  {
   "cell_type": "markdown",
   "metadata": {},
   "source": [
    "__Note:__ Please replace the information below with your last name, first name and UNI.<br><br>\n",
    "\n",
    "\n",
    "\n",
    "<i>\n",
    "<span style=\"font-size: 20pt; line-height: 1.2\"; >\n",
    "Jiang_Jingyou, jj3192\n",
    "</span>\n",
    "</i>"
   ]
  },
  {
   "cell_type": "markdown",
   "metadata": {},
   "source": [
    "## Introduction\n",
    "\n",
    "### Objectives\n",
    "\n",
    "\n",
    "### Submission\n",
    "1. File > Download as > PDF via latex (.PDF) (Use the \"File\" menu option on the Jupyter notebook tool bar, not the option on the browser tool bar).\n",
    "2. Upload .pdf and .ipynb to GradeScope\n",
    "\n",
    "**This assignment is due December 7, 11:59 pm EDT**\n",
    "\n",
    "\n",
    "### Collaboration\n",
    "- You may use any information you get in TA or Prof. Ferguson's office hours, from lectures or from recitations.\n",
    "- You may use information that you find on the web.\n",
    "- You are NOT allowed to collaborate with other students outside of office hours.\n"
   ]
  },
  {
   "cell_type": "markdown",
   "metadata": {},
   "source": [
    "# Part A: Written Questions"
   ]
  },
  {
   "cell_type": "markdown",
   "metadata": {},
   "source": [
    "## W1: Disk Performance\n",
    "\n",
    "__Question:__\n",
    "\n",
    "Some databases use magnetic disks in a way that only setors in outer traks are\n",
    "used, while setors in inner traks are left unused. What might be the benefits\n",
    "of doing so?"
   ]
  },
  {
   "cell_type": "markdown",
   "metadata": {},
   "source": [
    "__Answer:__"
   ]
  },
  {
   "cell_type": "markdown",
   "metadata": {},
   "source": [
    "Only using sectors in outer tracks can save space to improve performance of the disk. Also, the outer part of the disk moves faster and can read more information than the inner part of the disk."
   ]
  },
  {
   "cell_type": "markdown",
   "metadata": {},
   "source": [
    "## W2: RAID\n",
    "\n",
    "__Question:__\n",
    "\n",
    "Briefly explain RAID-0, RAID-1 and RAID-5. Briefly explain pros and cons."
   ]
  },
  {
   "cell_type": "markdown",
   "metadata": {},
   "source": [
    "__Answer:__"
   ]
  },
  {
   "cell_type": "markdown",
   "metadata": {},
   "source": [
    "Redundant Array of Independent Disks is a data storage virtualization technology in which multiple hard disks are combined to form one or more logical units to provide redundancy, reliability, and scalability. RAID-0 uses striping so data in RAID level 0 is split equally across all of the disks. The storage capacity is the sum of the capacities of all the disks in the array. The pros of RAID-0 are easy-to-implement, full use of storage capacity, and good performance in read and write operations. The cons of RAID-0 are not fault-tolerant and not ideal for mission critical systems. \n",
    "\n",
    "RAID-1 uses mirroring with no parity, striping, or spanning of disk space across multiple disks. It is a setup of at least two drives that contain an exact copy or mirror of data. It has pros on fast read operations, high fault tolerance with two disk drives, and data replacement when drive failure. It has cons on high cost, redundant data capacity, and irreplaceable when connected with multiple users.\n",
    "\n",
    "RAID-5 combines block-level striping with distributed parity among drives, which is the most common and secure RAID level. It requires at least 3 drives and can work with at most 16 drives. Data blocks are striped across the disks, and on one disk a parity checksum of all the block data is written. The pros are fast data-read transactions, data accessible after drive failure and during replacement of the failed hard drive. The cons are complex technology to implement, bad effects on throughput, long time to restore or replace data if drive fails."
   ]
  },
  {
   "cell_type": "markdown",
   "metadata": {},
   "source": [
    "## W3: Storage Hierarchy\n",
    "\n",
    "__Question:__\n",
    "\n",
    "Briefly explain the following levels of the storage hierarchy.\n",
    "- Cache\n",
    "- Main memory\n",
    "- Disk"
   ]
  },
  {
   "cell_type": "markdown",
   "metadata": {},
   "source": [
    "__Answer:__"
   ]
  },
  {
   "cell_type": "markdown",
   "metadata": {},
   "source": [
    "Cache is a primary storage and the fastest media used by CPU to reduce the average cost to access data. A cache is a smaller, faster memory, located closer to a processor core, which stores copies of the data from frequently used main memory locations. The cache memory is typically implemented with static random-access memory (SRAM) and have multiple levels with different instruction-specific and data-specific caches.\n",
    "\n",
    "Main memory is a primary storage which is fast but volatile. It's below the storage hierarchy level of cache. Main memory is directly or indirectly connected to the central processing unit via a memory bus. The CPU firstly sends a number through an address bus, a number called memory address, that indicates the desired location of data. Then it reads or writes the data in the memory cells using the data bus. \n",
    "\n",
    "Disks are secondary storage, which is the next level in storage hierarchy. They are non-volatile and moderately fast access time, which are also called on-line storage. Disks are storage mechanisms where data is recorded by various electronic, magnetic, optical, or mechanical changes to a surface layer of one or more rotating disks."
   ]
  },
  {
   "cell_type": "markdown",
   "metadata": {},
   "source": [
    "## W4: Disks\n",
    "\n",
    "__Question:__\n",
    "\n",
    "Compare the pros and cons of hard disks versus SSDs."
   ]
  },
  {
   "cell_type": "markdown",
   "metadata": {},
   "source": [
    "__Answer:__"
   ]
  },
  {
   "cell_type": "markdown",
   "metadata": {},
   "source": [
    "Hard disks: <br>\n",
    "Pros: cost-friendly, large storage space, standardized sizes to ease repair and replacement.<br>\n",
    "Cons: noisy, use lots of power, slow, prone to being damaged by time.\n",
    "\n",
    "SSDs:<br>\n",
    "Pros: faster than HDDs, noisy, use less power, more durable.<br>\n",
    "Cons: less storage capacity, expensive, difficult to recover data if failed."
   ]
  },
  {
   "cell_type": "markdown",
   "metadata": {},
   "source": [
    "## W4: Disk Addressing\n",
    "\n",
    "__Question:__\n",
    "\n",
    "Briefly explain cylinder-sector-head addressing and logical block addressing."
   ]
  },
  {
   "cell_type": "markdown",
   "metadata": {},
   "source": [
    "__Answer:__"
   ]
  },
  {
   "cell_type": "markdown",
   "metadata": {},
   "source": [
    "Cylinder-sector-head (CHS) addressing is the process of identifying individual sectors, the physical block of data, on a disk by their position in a track, where the track is determined by the head and cylinder numbers.\n",
    "\n",
    "Logical block addressing is a technique that allows a computer to address a hard disk larger than 528 megabytes. A logical block address is a 28-bit value that maps to a specific cylinder-head-sector address on the disk."
   ]
  },
  {
   "cell_type": "markdown",
   "metadata": {},
   "source": [
    "## W5: Record Management\n",
    "\n",
    "__Question:__\n",
    "\n",
    "Briefly explain the concepts of fixed length records and variable length records. What are some complexities that variable length records introduce?"
   ]
  },
  {
   "cell_type": "markdown",
   "metadata": {},
   "source": [
    "__Answer:__"
   ]
  },
  {
   "cell_type": "markdown",
   "metadata": {},
   "source": [
    "The database is stored as a collection of files. Each file is a sequence of records. A record is a sequence of fields.\n",
    "In fixed-length records, each record occupies one slot. You store and retrieve records based on the relative record number of the slot. It store record i starting from byte n * (i – 1), where n is the size of each record. A variable-length has no slots. Instead, the free space you define allows for more efficient record insertion. When you load an RRDS with fixed-length records, you can choose to skip slots and leave them empty. When you load an RRDS with variable length records, you can skip the related record numbers. \n",
    "\n",
    "Variable length records can arise where storage of multiple record types in a file, record types that allow variable lengths for one or more fields such as strings (varchar), record types that allow repeating fields. They have slotted page structure in which the header contains number of record entries, end of free space in the block, location and size of each record. Records can be moved around within a page to keep them contiguous with no empty space between them; entry in the header must be updated."
   ]
  },
  {
   "cell_type": "markdown",
   "metadata": {},
   "source": [
    "## W6: File Organization\n",
    "\n",
    "__Question:__\n",
    "\n",
    "Briefly explain and compare heap file organization and sequential file organization."
   ]
  },
  {
   "cell_type": "markdown",
   "metadata": {},
   "source": [
    "__Answer:__"
   ]
  },
  {
   "cell_type": "markdown",
   "metadata": {},
   "source": [
    "Heap (unordered) files Records are placed on disk in no particular order. Records are placed in the file in the same order as they are inserted. It can save more time for data fetching and retriving.\n",
    "\n",
    "Sequential (ordered) files Records are ordered by the value of a specified field. The records in a file can be sorted on the values of one or more of the fields, forming a key-sequenced data set. It is more efficient for big data processing."
   ]
  },
  {
   "cell_type": "markdown",
   "metadata": {},
   "source": [
    "## W7: Buffer Pool\n",
    "\n",
    "__Question:__\n",
    "\n",
    "What type of query might benefit from using most-recently-used eviction policy for buffer pool management?"
   ]
  },
  {
   "cell_type": "markdown",
   "metadata": {},
   "source": [
    "__Answer:__"
   ]
  },
  {
   "cell_type": "markdown",
   "metadata": {},
   "source": [
    "Using most-recently-used eviction policy for buffer pool management would benefit queries that iterate multiple times without scanning back and that have no well-defined access pattern."
   ]
  },
  {
   "cell_type": "markdown",
   "metadata": {},
   "source": [
    "## W8: Row versus Column Storage\n",
    "\n",
    "__Question:__\n",
    "\n",
    "For which types of queries are column oriented storage beneficial?"
   ]
  },
  {
   "cell_type": "markdown",
   "metadata": {},
   "source": [
    "__Answer:__"
   ]
  },
  {
   "cell_type": "markdown",
   "metadata": {},
   "source": [
    "Columnar oriented storage is more suitable for analytical queries such as online analytical processing or online transaction processing, querying a subset of data, working with big data, and no index needed queries."
   ]
  },
  {
   "cell_type": "markdown",
   "metadata": {},
   "source": [
    "## W9: Multi-table Clustering\n",
    "\n",
    "__Question:__\n",
    "\n",
    "For which types of queries might multi-table clustering be useful?"
   ]
  },
  {
   "cell_type": "markdown",
   "metadata": {},
   "source": [
    "__Answer:__"
   ]
  },
  {
   "cell_type": "markdown",
   "metadata": {},
   "source": [
    "Multi-table clustering might be useful for queries filtering specific information in the relation or having operations like Joins of two clustered tables."
   ]
  },
  {
   "cell_type": "markdown",
   "metadata": {},
   "source": [
    "## W10: Indexes\n",
    "\n",
    "__Question:__\n",
    "\n",
    "Briefly explain and give the pros and cons of B+ tree indexes and hash indexes."
   ]
  },
  {
   "cell_type": "markdown",
   "metadata": {},
   "source": [
    "__Answer:__"
   ]
  },
  {
   "cell_type": "markdown",
   "metadata": {},
   "source": [
    "The B+ tree index in the database is divided into a clustered index and a secondary index. The commonality of the two indexes is that the internal B+ tree is balanced, and the leaf nodes store all the data. The difference is whether the leaf node stores an entire row of data.<br>\n",
    "Pros: The B+ tree can contain more nodes per node to reduce the height of the tree and to change the data range into multiple intervals. The more the interval, the faster the data retrieval. The leaf nodes are linked to each other by one or two pointers, and the sequential query performance is higher. <br>\n",
    "Cons: The keyword retrieval efficiency of the B+ tree index is relatively average, and the fluctuation range is not as large as that of the B-tree.\n",
    "\n",
    "The hash index uses a certain hash algorithm to convert the key value into a new hash value. The search does not need to be searched from the root node to the leaf node step by step like a B+ tree. Only one hash algorithm is needed. You can immediately locate the corresponding location, which is very fast.<br>\n",
    "Pros: The hash index has an absolute advantage on an equivalence query since only one algorithm is needed to find the corresponding key value.<br>\n",
    "Cons: The hash index is useless for a range query retrieval since the original orderly key value may become discontinuous. The hash index can't use the index to complete the sorting. Hash indexes also do not support the leftmost matching rule for multicolumn joint indexes.\n",
    "\n"
   ]
  },
  {
   "cell_type": "markdown",
   "metadata": {},
   "source": [
    "## W11: Clustered Index\n",
    "\n",
    "__Question:__\n",
    "\n",
    "Why can there be only one clustered index for a database table?"
   ]
  },
  {
   "cell_type": "markdown",
   "metadata": {},
   "source": [
    "__Answer:__"
   ]
  },
  {
   "cell_type": "markdown",
   "metadata": {},
   "source": [
    "There can be only one clustered index for a database table since the data rows can be stored in only one order. The only time the data rows in a table are stored in sorted order is when the table contains a clustered index."
   ]
  },
  {
   "cell_type": "markdown",
   "metadata": {},
   "source": [
    "## W12: Composite Indexes\n",
    "\n",
    "__Question:__\n",
    "\n",
    "Consider a table with columns:\n",
    "1. ```lastname```\n",
    "2. ```firstname```\n",
    "\n",
    "Assume common look ups were by ```firstname``` and ```lastname``` together, or just by ```lastname.``` What would be a disadvantage of creating an index on ```firstname```?"
   ]
  },
  {
   "cell_type": "markdown",
   "metadata": {},
   "source": [
    "__Answer:__"
   ]
  },
  {
   "cell_type": "markdown",
   "metadata": {},
   "source": [
    "Creating an index on firstname will slow down the operation performance and waste space when there are repeated firstname that adds on complexity of indexing. Moreover, since firstname might be adjusted, the index would also be modified every time, which is much less efficient."
   ]
  },
  {
   "cell_type": "markdown",
   "metadata": {},
   "source": [
    "## W13: Query Optimization\n",
    "\n",
    "__Question:__\n",
    "\n",
    "Explain the concept of equivalent queries and their importance for query optimization."
   ]
  },
  {
   "cell_type": "markdown",
   "metadata": {},
   "source": [
    "__Answer:__"
   ]
  },
  {
   "cell_type": "markdown",
   "metadata": {},
   "source": [
    "Two SQL queries are semantically equivalent if they produce the same results given any valid input relations. A single query can be executed through different algorithms or re-written in different forms and structures. The query optimizer attempts to determine the most efficient way to execute a given query by considering the possible query plans. The goal of query optimization is to reduce the system resources required to fulfill a query, and ultimately provide the user with the correct result set faster. Thus, equivalent queries allow logical query plan to be converted to physical query plan specifying what algorithms are used for each operation to determine the most efficient means of executing a SQL statement."
   ]
  },
  {
   "cell_type": "markdown",
   "metadata": {},
   "source": [
    "## W14: Operator Implementation\n",
    "\n",
    "__Question:__\n",
    "\n",
    "There are many possible algorithms for implementing a specific operator, e.g. JOIN. Give a scenario where a Sort-Merge Join is better than a hash join, and vice versa."
   ]
  },
  {
   "cell_type": "markdown",
   "metadata": {},
   "source": [
    "__Answer:__"
   ]
  },
  {
   "cell_type": "markdown",
   "metadata": {},
   "source": [
    "Sort-Merge Join has sort phase and merge phase in join algorithm. Merge algorithm is the fastest join algorithm so that Sort-Merge Join is fastest in case of sorted relations. Merge join is used when projections of the joined tables are sorted on the join columns. Merge joins are faster and uses less memory than hash joins."
   ]
  },
  {
   "cell_type": "markdown",
   "metadata": {},
   "source": [
    "Hash join is used when projections of the joined tables are not already sorted on the join columns. In this case, the optimizer builds an in-memory hash table on the inner table's join column. The optimizer then scans the outer table for matches to the hash table, and joins data from the two tables accordingly. Hash join is best algorithm when large, unsorted, and non-indexed data (residing in tables) is to be joined. Hash join algorithm consists of probe phase and build phase."
   ]
  },
  {
   "cell_type": "markdown",
   "metadata": {},
   "source": [
    "## W15: Optimizing via Index Creation\n",
    "\n",
    "__Question:__\n",
    "\n",
    "Consider a scenario in which the SQL statement is of the form ```SELECT DISTINCT c1, c2, c3 from T.``` Why might it make sense to create an index to optimize this query?"
   ]
  },
  {
   "cell_type": "markdown",
   "metadata": {},
   "source": [
    "__Answer:__"
   ]
  },
  {
   "cell_type": "markdown",
   "metadata": {},
   "source": [
    "Since it's finding the unique combination of c1, c2, and c3 from T, creating an index could be faster and more efficient to look for it instead of the whole query to optimize in execution speed and running time. "
   ]
  }
 ],
 "metadata": {
  "kernelspec": {
   "display_name": "Python 3 (ipykernel)",
   "language": "python",
   "name": "python3"
  },
  "language_info": {
   "codemirror_mode": {
    "name": "ipython",
    "version": 3
   },
   "file_extension": ".py",
   "mimetype": "text/x-python",
   "name": "python",
   "nbconvert_exporter": "python",
   "pygments_lexer": "ipython3",
   "version": "3.9.7"
  }
 },
 "nbformat": 4,
 "nbformat_minor": 4
}
